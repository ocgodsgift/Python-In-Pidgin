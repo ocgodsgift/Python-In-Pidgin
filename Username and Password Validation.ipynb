{
 "cells": [
  {
   "cell_type": "code",
   "execution_count": null,
   "metadata": {},
   "outputs": [],
   "source": [
    "# Username and Password Validation\n",
    "users = {}\n",
    "password = ''"
   ]
  },
  {
   "cell_type": "code",
   "execution_count": null,
   "metadata": {},
   "outputs": [],
   "source": [
    "# Check if a username is existing already.\n",
    "username = input(\"Register your username: \").lower()\n",
    "\n",
    "if username not in users.keys():\n",
    "  password = input(\"Enter your password: \")\n",
    "  users[username] = password\n",
    "  print(\"Registration Successful!\")\n",
    "else:\n",
    "  print(\"Username already existing!\")"
   ]
  },
  {
   "cell_type": "code",
   "execution_count": null,
   "metadata": {},
   "outputs": [],
   "source": [
    "# login validation\n",
    "login = input(\"Enter yes to sign in or no to exit: \").lower()\n",
    "\n",
    "if login in ['yes', 'y']:\n",
    "  username_check = input(\"Enter your Username: \").lower()\n",
    "  password_check = input(\"Enter your password: \")\n",
    "\n",
    "  for username in users.keys():\n",
    "    if username_check == username:\n",
    "      if password_check == users.get(username):\n",
    "        print(f\"Login Successful! Welcome {username.title()}\")\n",
    "      else:\n",
    "        print(\"Incorrect Password or Username\")\n",
    "    else:\n",
    "      print(\"Invalid Username\")\n",
    "      \n",
    "else:\n",
    "  print(\"we hate to see you leave!\")"
   ]
  }
 ],
 "metadata": {
  "language_info": {
   "name": "python"
  },
  "orig_nbformat": 4
 },
 "nbformat": 4,
 "nbformat_minor": 2
}
