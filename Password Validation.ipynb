{
 "cells": [
  {
   "cell_type": "code",
   "execution_count": null,
   "metadata": {},
   "outputs": [],
   "source": [
    "# Password only validation\n",
    "users = []\n",
    "password = ''"
   ]
  },
  {
   "cell_type": "code",
   "execution_count": null,
   "metadata": {},
   "outputs": [],
   "source": [
    "username = input(\"Register your username: \").lower()\n",
    "\n",
    "if username not in users:\n",
    "  password = input(\"Enter your password: \")\n",
    "  users.append(username)\n",
    "  print(\"Registration Sucessful!\")\n",
    "else:\n",
    "  print(\"Username already existing!\")"
   ]
  },
  {
   "cell_type": "code",
   "execution_count": null,
   "metadata": {},
   "outputs": [],
   "source": [
    "login = input(\"Enter yes to sign in or no to exit: \").lower()\n",
    "if login in ['yes', 'y']:\n",
    "  password_check = input(\"Enter your password: \")\n",
    "  if password_check == password:\n",
    "    print(\"Sign in Successful !\")\n",
    "  else:\n",
    "    print(\"Incorrect Password\")\n",
    "else:\n",
    "  print(\"We hate to see you leave!\")"
   ]
  }
 ],
 "metadata": {
  "language_info": {
   "name": "python"
  },
  "orig_nbformat": 4
 },
 "nbformat": 4,
 "nbformat_minor": 2
}
